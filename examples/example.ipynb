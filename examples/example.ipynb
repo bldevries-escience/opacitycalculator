{
 "cells": [
  {
   "cell_type": "code",
   "execution_count": 6,
   "metadata": {},
   "outputs": [],
   "source": [
    "import matplotlib.pyplot as plt"
   ]
  },
  {
   "cell_type": "markdown",
   "metadata": {},
   "source": [
    "# Examples using the opticalconstants package"
   ]
  },
  {
   "cell_type": "code",
   "execution_count": 1,
   "metadata": {},
   "outputs": [],
   "source": [
    "from opticalconstants import *"
   ]
  },
  {
   "cell_type": "markdown",
   "metadata": {},
   "source": [
    "#### In order to get optical constants you make an OpticalConstants object"
   ]
  },
  {
   "cell_type": "code",
   "execution_count": 13,
   "metadata": {},
   "outputs": [],
   "source": [
    "oc = OpticalConstants()"
   ]
  },
  {
   "cell_type": "markdown",
   "metadata": {},
   "source": [
    "You first need to find a label of a mineral you are interested. Say you look for some olivine. You search for the label of an item this way:"
   ]
  },
  {
   "cell_type": "code",
   "execution_count": 22,
   "metadata": {},
   "outputs": [
    {
     "data": {
      "text/plain": [
       "['a_ol_Jager03_mg1.0_fe0.0', 'fo050']"
      ]
     },
     "execution_count": 22,
     "metadata": {},
     "output_type": "execute_result"
    }
   ],
   "source": [
    "labels = oc.search_label(\"olivine\")\n",
    "labels"
   ]
  },
  {
   "cell_type": "markdown",
   "metadata": {},
   "source": [
    "#### OK, you found two labels of something olivine like. Lets load the first item and print its properties to see if it is what you want."
   ]
  },
  {
   "cell_type": "code",
   "execution_count": 23,
   "metadata": {},
   "outputs": [
    {
     "data": {
      "text/plain": [
       "1"
      ]
     },
     "execution_count": 23,
     "metadata": {},
     "output_type": "execute_result"
    }
   ],
   "source": [
    "oc.label= labels[0]\n",
    "oc.search()"
   ]
  },
  {
   "cell_type": "code",
   "execution_count": 24,
   "metadata": {},
   "outputs": [
    {
     "name": "stdout",
     "output_type": "stream",
     "text": [
      "Label:              a_ol_Jager03_mg1.0_fe0.0\n",
      "Type:               olivine\n",
      "Information:        Amorphous olivine Mg2SiO4, from Jena DB\n",
      "Composition:        Mg2SiO4\n",
      "Reference:          C. Jager, J. Dorschner, H. Mutschke, Th. Posch, Th. Henning, Steps toward interstellar silicate mineralogy VII. Spectral properties and crystallization behaviour of magnesium silicates produced by the sol-gel method; Astron. Astrophys., 408, 193\n",
      "DOI:                10.1051/0004-6361:20030916\n",
      "Mineral:            amorphous olivine\n",
      "Keywords:           ['amorphous', 'olivine', 'silicate', 'Mg']\n",
      "Lattice structure:  a\n",
      "Density:            3.2\n",
      "Units:              gr/cm^3\n",
      "Temperature:        300.0\n",
      "Units:              K\n"
     ]
    }
   ],
   "source": [
    "oc.print()"
   ]
  },
  {
   "cell_type": "markdown",
   "metadata": {},
   "source": [
    "#### Alright, lets say this is what you want, lets plot the optical constants."
   ]
  },
  {
   "cell_type": "code",
   "execution_count": 18,
   "metadata": {},
   "outputs": [
    {
     "data": {
      "image/png": "[encoded data removed]",
      "text/plain": [
       "<matplotlib.figure.Figure at 0x19e06c1c7f0>"
      ]
     },
     "metadata": {},
     "output_type": "display_data"
    }
   ],
   "source": [
    "plt.plot(oc.wavelength, oc.N1, label=\"Real part\")\n",
    "plt.plot(oc.wavelength, oc.K1, label=\"Imaginary part\")\n",
    "plt.xlabel(\"Wavelength (micrometre)\")\n",
    "plt.xlim(0,80)\n",
    "plt.legend()\n",
    "plt.show()"
   ]
  },
  {
   "cell_type": "code",
   "execution_count": null,
   "metadata": {},
   "outputs": [],
   "source": []
  }
 ],
 "metadata": {
  "kernelspec": {
   "display_name": "Python 3",
   "language": "python",
   "name": "python3"
  },
  "language_info": {
   "codemirror_mode": {
    "name": "ipython",
    "version": 3
   },
   "file_extension": ".py",
   "mimetype": "text/x-python",
   "name": "python",
   "nbconvert_exporter": "python",
   "pygments_lexer": "ipython3",
   "version": "3.6.3"
  }
 },
 "nbformat": 4,
 "nbformat_minor": 2
}
